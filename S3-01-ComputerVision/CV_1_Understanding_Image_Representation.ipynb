{
  "cells": [
    {
      "cell_type": "markdown",
      "metadata": {
        "id": "view-in-github",
        "colab_type": "text"
      },
      "source": [
        "<a href=\"https://colab.research.google.com/github/DhrubaAdhikary/Learn_CV_with_Dhruv/blob/master/CV_1_Understanding_Image_Representation.ipynb\" target=\"_parent\"><img src=\"https://colab.research.google.com/assets/colab-badge.svg\" alt=\"Open In Colab\"/></a>"
      ]
    },
    {
      "cell_type": "markdown",
      "id": "af189d3c",
      "metadata": {
        "id": "af189d3c"
      },
      "source": [
        "# Understanding Image Representation"
      ]
    },
    {
      "cell_type": "code",
      "execution_count": null,
      "id": "97eb108e",
      "metadata": {
        "id": "97eb108e"
      },
      "outputs": [],
      "source": [
        "\n",
        "# Step 1: Load Required Libraries\n",
        "import cv2  # OpenCV for image processing\n",
        "import numpy as np\n",
        "import matplotlib.pyplot as plt\n",
        "\n",
        "# Function to display images\n",
        "def show_image(img, title=\"Image\"):\n",
        "    plt.figure(figsize=(8, 8))\n",
        "    if len(img.shape) == 3:  # Color image\n",
        "        plt.imshow(cv2.cvtColor(img, cv2.COLOR_BGR2RGB))\n",
        "    else:  # Grayscale image\n",
        "        plt.imshow(img, cmap='gray')\n",
        "    plt.title(title)\n",
        "    plt.axis(\"off\")\n",
        "    plt.show()\n"
      ]
    },
    {
      "cell_type": "code",
      "execution_count": null,
      "id": "d2b47a3e",
      "metadata": {
        "id": "d2b47a3e"
      },
      "outputs": [],
      "source": [
        "\n",
        "# Step 2: Load an Image\n",
        "# TASK: Uncomment the following lines and load the image \"sample_image.jpg\" into the variable 'image'\n",
        "\n",
        "# image = cv2.imread('sample_image.jpg')  # Replace 'sample_image.jpg' with the path to your image\n",
        "# show_image(image, \"Original Image\")\n",
        "\n",
        "# Question: What are the dimensions of the image? Use the .shape property of the image.\n",
        "# Example: (Height, Width, Channels)\n",
        "# print(\"Image Dimensions:\", <FILL_THIS>)\n"
      ]
    },
    {
      "cell_type": "code",
      "execution_count": null,
      "id": "fdc645dc",
      "metadata": {
        "id": "fdc645dc"
      },
      "outputs": [],
      "source": [
        "\n",
        "# Step 3: Convert the Image to Grayscale\n",
        "# TASK: Convert the loaded image to grayscale using cv2.COLOR_BGR2GRAY\n",
        "\n",
        "# grayscale_image = <FILL_THIS>\n",
        "# show_image(grayscale_image, \"Grayscale Image\")\n",
        "\n",
        "# Question: Why does the grayscale image only have one channel? Discuss.\n"
      ]
    },
    {
      "cell_type": "code",
      "execution_count": null,
      "id": "53321edb",
      "metadata": {
        "id": "53321edb"
      },
      "outputs": [],
      "source": [
        "\n",
        "# Step 4: Represent the Image as a Matrix\n",
        "# TASK: Display the grayscale image matrix using NumPy.\n",
        "# Use print() or plt.imshow() to observe pixel intensity values.\n",
        "\n",
        "# print(\"Grayscale Image Matrix:\")\n",
        "# print(<FILL_THIS>)\n",
        "\n",
        "# Optional TASK: Display the top-left 10x10 portion of the matrix.\n",
        "# Hint: Use array slicing ([:10, :10]).\n"
      ]
    },
    {
      "cell_type": "code",
      "execution_count": null,
      "id": "9b049afc",
      "metadata": {
        "id": "9b049afc"
      },
      "outputs": [],
      "source": [
        "\n",
        "# Step 5: Perform Image Manipulations\n",
        "# TASK 1: Flip the Image Horizontally and Vertically\n",
        "# horizontal_flip = <FILL_THIS>  # Hint: Use cv2.flip with code 1 for horizontal\n",
        "# vertical_flip = <FILL_THIS>  # Hint: Use cv2.flip with code 0 for vertical\n",
        "\n",
        "# show_image(horizontal_flip, \"Horizontally Flipped Image\")\n",
        "# show_image(vertical_flip, \"Vertically Flipped Image\")\n",
        "\n",
        "# TASK 2: Crop the Image\n",
        "# Crop the grayscale image to the central 100x100 region.\n",
        "# HINT: Use array slicing and the .shape property to calculate the center.\n",
        "\n",
        "# center_crop = <FILL_THIS>\n",
        "# show_image(center_crop, \"Cropped Image\")\n"
      ]
    },
    {
      "cell_type": "code",
      "execution_count": null,
      "id": "d139a770",
      "metadata": {
        "id": "d139a770"
      },
      "outputs": [],
      "source": [
        "\n",
        "# Step 6: Explore Color Spaces\n",
        "# TASK: Convert the original image to the HSV color space and display it.\n",
        "# hsv_image = cv2.cvtColor(image, <FILL_THIS>)\n",
        "# show_image(hsv_image, \"HSV Image\")\n",
        "\n",
        "# Optional TASK: Split the HSV image into its three channels (Hue, Saturation, Value).\n",
        "# Display each channel separately.\n",
        "# Hint: Use cv2.split()\n"
      ]
    },
    {
      "cell_type": "markdown",
      "id": "0f00f1d5",
      "metadata": {
        "id": "0f00f1d5"
      },
      "source": [
        "\n",
        "### **Instructions for Students**\n",
        "1. Complete the `FILL_THIS` placeholders.\n",
        "2. Try out different images and observe the outputs.\n",
        "3. Answer the questions in the comments for deeper understanding.\n"
      ]
    }
  ],
  "metadata": {
    "colab": {
      "provenance": [],
      "include_colab_link": true
    }
  },
  "nbformat": 4,
  "nbformat_minor": 5
}