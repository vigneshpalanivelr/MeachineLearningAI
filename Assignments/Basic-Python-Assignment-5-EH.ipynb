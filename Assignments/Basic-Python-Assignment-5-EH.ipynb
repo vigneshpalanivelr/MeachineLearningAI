{
 "cells": [
  {
   "cell_type": "markdown",
   "metadata": {
    "toc": true
   },
   "source": [
    "<h1>Table of Contents<span class=\"tocSkip\"></span></h1>\n",
    "<div class=\"toc\"><ul class=\"toc-item\"><li><span><a href=\"#Question\" data-toc-modified-id=\"Question-1\"><span class=\"toc-item-num\">1&nbsp;&nbsp;</span>Question</a></span><ul class=\"toc-item\"><li><span><a href=\"#Answer\" data-toc-modified-id=\"Answer-1.1\"><span class=\"toc-item-num\">1.1&nbsp;&nbsp;</span>Answer</a></span></li></ul></li><li><span><a href=\"#Question\" data-toc-modified-id=\"Question-2\"><span class=\"toc-item-num\">2&nbsp;&nbsp;</span>Question</a></span><ul class=\"toc-item\"><li><span><a href=\"#Answer\" data-toc-modified-id=\"Answer-2.1\"><span class=\"toc-item-num\">2.1&nbsp;&nbsp;</span>Answer</a></span></li></ul></li></ul></div>"
   ]
  },
  {
   "cell_type": "markdown",
   "metadata": {},
   "source": [
    "# Question\n",
    "**Question 1 :**<br>\n",
    "Write a function to compute 5/0 and use try/except to catch the exceptions."
   ]
  },
  {
   "cell_type": "markdown",
   "metadata": {},
   "source": [
    "## Answer"
   ]
  },
  {
   "cell_type": "code",
   "execution_count": 17,
   "metadata": {
    "ExecuteTime": {
     "end_time": "2020-10-02T06:46:14.875416Z",
     "start_time": "2020-10-02T06:46:14.858415Z"
    }
   },
   "outputs": [],
   "source": [
    "def division(Numarator, Denominator):\n",
    "    result = int()\n",
    "    try:\n",
    "        result = Numarator/Denominator\n",
    "        return result\n",
    "    except ZeroDivisionError:\n",
    "        return 'Provide Denominator Greater than : 0'"
   ]
  },
  {
   "cell_type": "code",
   "execution_count": 18,
   "metadata": {
    "ExecuteTime": {
     "end_time": "2020-10-02T06:46:16.391503Z",
     "start_time": "2020-10-02T06:46:16.364501Z"
    }
   },
   "outputs": [
    {
     "name": "stdout",
     "output_type": "stream",
     "text": [
      "Provide Denominator Greater than : 0\n"
     ]
    }
   ],
   "source": [
    "print(division(5, 0))"
   ]
  },
  {
   "cell_type": "markdown",
   "metadata": {},
   "source": [
    "# Question\n",
    "**Question 2**<br>\n",
    "Implement a Python program to generate all sentences where <br>\n",
    "subject is in [\"Americans\", \"Indians\"]<br>\n",
    "verb is in    [\"Play\", \"watch\"]<br>\n",
    "object is in  [\"Baseball\",\"cricket\"].<br><br>\n",
    "\n",
    "**Hint:** Subject,Verb and Object should be declared in the program as shown below."
   ]
  },
  {
   "cell_type": "markdown",
   "metadata": {},
   "source": [
    "`subjects  = [\"Americans\",\"Indians\"]`<br>\n",
    "`verbs     = [\"play\",\"watch\"]`<br>\n",
    "`objects   = [\"Baseball\",\"Cricket\"]`<br>\n",
    "\n",
    "**Output should come as below:**<br>\n",
    "Americans play Baseball.<br>\n",
    "Americans play Cricket.<br>\n",
    "Americans watch Baseball.<br>\n",
    "Americans watch Cricket.<br>\n",
    "Indians play Baseball.<br>\n",
    "Indians play Cricket.<br>\n",
    "Indians watch Baseball.<br>\n",
    "Indians watch Cricket.<br>"
   ]
  },
  {
   "cell_type": "markdown",
   "metadata": {},
   "source": [
    "## Answer"
   ]
  },
  {
   "cell_type": "code",
   "execution_count": 20,
   "metadata": {
    "ExecuteTime": {
     "end_time": "2020-10-02T06:52:41.514688Z",
     "start_time": "2020-10-02T06:52:41.498687Z"
    }
   },
   "outputs": [],
   "source": [
    "subjects  = [\"Americans\", \"Indians\"]\n",
    "verbs     = [\"play\", \"watch\"]\n",
    "objects   = [\"Baseball\", \"Cricket\"]"
   ]
  },
  {
   "cell_type": "code",
   "execution_count": 26,
   "metadata": {
    "ExecuteTime": {
     "end_time": "2020-10-02T07:00:05.717209Z",
     "start_time": "2020-10-02T07:00:05.691207Z"
    }
   },
   "outputs": [
    {
     "name": "stdout",
     "output_type": "stream",
     "text": [
      "Americans play Baseball\n",
      "Americans play Cricket\n",
      "Americans watch Baseball\n",
      "Americans watch Cricket\n",
      "Indians play Baseball\n",
      "Indians play Cricket\n",
      "Indians watch Baseball\n",
      "Indians watch Cricket\n"
     ]
    }
   ],
   "source": [
    "for i in [i+ ' ' +j+' ' +k for i in subjects for j in verbs for k in objects]:\n",
    "    print(i)"
   ]
  }
 ],
 "metadata": {
  "kernelspec": {
   "display_name": "Python 3",
   "language": "python",
   "name": "python3"
  },
  "language_info": {
   "codemirror_mode": {
    "name": "ipython",
    "version": 3
   },
   "file_extension": ".py",
   "mimetype": "text/x-python",
   "name": "python",
   "nbconvert_exporter": "python",
   "pygments_lexer": "ipython3",
   "version": "3.7.7"
  },
  "toc": {
   "base_numbering": 1,
   "nav_menu": {},
   "number_sections": true,
   "sideBar": true,
   "skip_h1_title": false,
   "title_cell": "Table of Contents",
   "title_sidebar": "Contents",
   "toc_cell": true,
   "toc_position": {},
   "toc_section_display": true,
   "toc_window_display": true
  }
 },
 "nbformat": 4,
 "nbformat_minor": 4
}
