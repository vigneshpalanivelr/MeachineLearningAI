{
 "cells": [
  {
   "cell_type": "markdown",
   "metadata": {
    "toc": true
   },
   "source": [
    "<h1>Table of Contents<span class=\"tocSkip\"></span></h1>\n",
    "<div class=\"toc\"><ul class=\"toc-item\"><li><span><a href=\"#Problem-Statement\" data-toc-modified-id=\"Problem-Statement-1\"><span class=\"toc-item-num\">1&nbsp;&nbsp;</span>Problem Statement</a></span><ul class=\"toc-item\"><li><span><a href=\"#Solution\" data-toc-modified-id=\"Solution-1.1\"><span class=\"toc-item-num\">1.1&nbsp;&nbsp;</span>Solution</a></span></li><li><span><a href=\"#Solution\" data-toc-modified-id=\"Solution-1.2\"><span class=\"toc-item-num\">1.2&nbsp;&nbsp;</span>Solution</a></span></li></ul></li><li><span><a href=\"#Problem-Statement\" data-toc-modified-id=\"Problem-Statement-2\"><span class=\"toc-item-num\">2&nbsp;&nbsp;</span>Problem Statement</a></span></li><li><span><a href=\"#Question\" data-toc-modified-id=\"Question-3\"><span class=\"toc-item-num\">3&nbsp;&nbsp;</span>Question</a></span><ul class=\"toc-item\"><li><span><a href=\"#Solution---Normal-for-loop\" data-toc-modified-id=\"Solution---Normal-for-loop-3.1\"><span class=\"toc-item-num\">3.1&nbsp;&nbsp;</span>Solution - Normal for loop</a></span></li><li><span><a href=\"#Solution---Using-list-Comprehension\" data-toc-modified-id=\"Solution---Using-list-Comprehension-3.2\"><span class=\"toc-item-num\">3.2&nbsp;&nbsp;</span>Solution - Using list Comprehension</a></span></li></ul></li></ul></div>"
   ]
  },
  {
   "cell_type": "markdown",
   "metadata": {},
   "source": [
    "# Problem Statement\n",
    "Write a function so that the columns of the output matrix are powers of the input vector.<br>\n",
    "The order of the powers is determined by the increasing boolean argument. <br>\n",
    "Specifically,when increasing is False,the i-th output column is the input vector raised element-wise to the power of N-i-1.<br>\n",
    "**HINT:** Such a matrix with a geometric progression in each row is named for **AlexandreTheophile Vandermonde**.<br>"
   ]
  },
  {
   "cell_type": "markdown",
   "metadata": {},
   "source": [
    "**Breakdown Points:**<br>\n",
    "Write a function so that the columns of the output matrix are powers of the input vector.<br>\n",
    "`Create a matrix that each and every columns of the output matrix should be`<br>\n",
    "`The power of the input columns given`<br>\n",
    "\n",
    "The order of the powers is determined by the increasing boolean argument.<br>\n",
    "`The power can be in Increasing/Decreasing Order defined by an argument`<br>\n",
    "\n",
    "when increasing is False,the i-th output column is the input vector raised element-wise to the power of N-i-1.<br>\n",
    "`If The increasing order is False, all the elements power will be N-i-1, else`<br>\n",
    "`If The increasing order is True, all the elements power will be N`<br>\n",
    "\n",
    "What is ?<br>\n",
    "`vector = Input List / Array`<br>\n",
    "`N      = Number of Columns in the Matrix`<br>\n",
    "`i      = Current Column index`<br><br>\n",
    "\n",
    "**Target: To Create Matrix from given Vector**"
   ]
  },
  {
   "cell_type": "code",
   "execution_count": 34,
   "metadata": {
    "ExecuteTime": {
     "end_time": "2020-10-01T17:01:54.785006Z",
     "start_time": "2020-10-01T17:01:54.768005Z"
    }
   },
   "outputs": [],
   "source": [
    "vector   = [1, 2, 4, 6, 8, 10]       # Input List / Array\n",
    "N        = 5                         # Number of Columns in the Matrix\n",
    "Matrix_i = []\n",
    "Matrix_d = []"
   ]
  },
  {
   "cell_type": "code",
   "execution_count": 35,
   "metadata": {
    "ExecuteTime": {
     "end_time": "2020-10-01T17:01:55.202030Z",
     "start_time": "2020-10-01T17:01:55.177029Z"
    }
   },
   "outputs": [
    {
     "name": "stdout",
     "output_type": "stream",
     "text": [
      "[1, 1, 1, 1, 1, 1, 2, 4, 8, 16, 1, 4, 16, 64, 256, 1, 6, 36, 216, 1296, 1, 8, 64, 512, 4096, 1, 10, 100, 1000, 10000]\n"
     ]
    }
   ],
   "source": [
    "for i in vector:                     # Get elements of the vector\n",
    "    for j in range(N):               # Get column numbers(power) : By default power will be increasing order\n",
    "        Matrix_i.append(i**j)        # Create the result\n",
    "\n",
    "print(Matrix_i)"
   ]
  },
  {
   "cell_type": "code",
   "execution_count": 36,
   "metadata": {
    "ExecuteTime": {
     "end_time": "2020-10-01T17:01:56.519105Z",
     "start_time": "2020-10-01T17:01:56.496104Z"
    }
   },
   "outputs": [
    {
     "name": "stdout",
     "output_type": "stream",
     "text": [
      "[1, 1, 1, 1, 1, 16, 8, 4, 2, 1, 256, 64, 16, 4, 1, 1296, 216, 36, 6, 1, 4096, 512, 64, 8, 1, 10000, 1000, 100, 10, 1]\n"
     ]
    }
   ],
   "source": [
    "for i in vector:                     # Get elements of the vector\n",
    "    for j in range(N):               # Get column numbers(power) : increasing = False : power = N-i-1\n",
    "        Matrix_d.append(i**(N-j-1))  # Create the result\n",
    "\n",
    "print(Matrix_d)"
   ]
  },
  {
   "cell_type": "code",
   "execution_count": 37,
   "metadata": {
    "ExecuteTime": {
     "end_time": "2020-10-01T17:01:57.598167Z",
     "start_time": "2020-10-01T17:01:57.578166Z"
    }
   },
   "outputs": [],
   "source": [
    "import numpy as np\n",
    "\n",
    "arr_i = np.array(Matrix_i)            # Convert to Array\n",
    "arr_d = np.array(Matrix_d)            # Convert to Array"
   ]
  },
  {
   "cell_type": "code",
   "execution_count": 38,
   "metadata": {
    "ExecuteTime": {
     "end_time": "2020-10-01T17:01:58.282206Z",
     "start_time": "2020-10-01T17:01:58.256205Z"
    }
   },
   "outputs": [
    {
     "data": {
      "text/plain": [
       "array([[    1,     1,     1,     1,     1],\n",
       "       [    1,     2,     4,     8,    16],\n",
       "       [    1,     4,    16,    64,   256],\n",
       "       [    1,     6,    36,   216,  1296],\n",
       "       [    1,     8,    64,   512,  4096],\n",
       "       [    1,    10,   100,  1000, 10000]])"
      ]
     },
     "execution_count": 38,
     "metadata": {},
     "output_type": "execute_result"
    }
   ],
   "source": [
    "arr_i.reshape(len(vector), N)         # Convert to Matrix"
   ]
  },
  {
   "cell_type": "code",
   "execution_count": 39,
   "metadata": {
    "ExecuteTime": {
     "end_time": "2020-10-01T17:02:10.580910Z",
     "start_time": "2020-10-01T17:02:10.553908Z"
    }
   },
   "outputs": [
    {
     "data": {
      "text/plain": [
       "array([[    1,     1,     1,     1,     1],\n",
       "       [   16,     8,     4,     2,     1],\n",
       "       [  256,    64,    16,     4,     1],\n",
       "       [ 1296,   216,    36,     6,     1],\n",
       "       [ 4096,   512,    64,     8,     1],\n",
       "       [10000,  1000,   100,    10,     1]])"
      ]
     },
     "execution_count": 39,
     "metadata": {},
     "output_type": "execute_result"
    }
   ],
   "source": [
    "arr_d.reshape(len(vector), N)         # Convert to Matrix"
   ]
  },
  {
   "cell_type": "markdown",
   "metadata": {},
   "source": [
    "## Solution"
   ]
  },
  {
   "cell_type": "code",
   "execution_count": 49,
   "metadata": {
    "ExecuteTime": {
     "end_time": "2020-10-01T18:06:18.720112Z",
     "start_time": "2020-10-01T18:06:18.688110Z"
    }
   },
   "outputs": [],
   "source": [
    "import numpy as np\n",
    "\n",
    "def Vandermonde_Mat(vector, N=None, increasing=True):\n",
    "    \n",
    "    # Condition for vector\n",
    "    vector     = [int(i) for i in vector.split(',')]\n",
    "    if len(vector) <= 1:\n",
    "        print('Error : Minimum Two elements required')\n",
    "    \n",
    "    # Condition for N\n",
    "    if N is None:\n",
    "        N = len(vector)\n",
    "    elif not isinstance(N, int) and not None:\n",
    "        print('Error : Please provide integer value')\n",
    "    \n",
    "    # Condition for increasing and create Matrix\n",
    "    if type(increasing) != bool:\n",
    "        print('Error : Please provide Boolean value')\n",
    "    elif increasing:\n",
    "        print('### Power is in Increasing Order ###\\n')\n",
    "        return np.array([i**j for i in vector for j in range(N)]).reshape(len(vector), N)\n",
    "    elif not increasing:\n",
    "        print(' ### Power is in Decresing Order  ###\\n')\n",
    "        return np.array([i**(N-j-1) for i in vector for j in range(N)]).reshape(len(vector), N)"
   ]
  },
  {
   "cell_type": "code",
   "execution_count": 50,
   "metadata": {
    "ExecuteTime": {
     "end_time": "2020-10-01T18:06:18.918123Z",
     "start_time": "2020-10-01T18:06:18.897122Z"
    }
   },
   "outputs": [
    {
     "name": "stdout",
     "output_type": "stream",
     "text": [
      "### Power is in Increasing Order ###\n",
      "\n",
      "[[    1     1     1     1     1]\n",
      " [    1     2     4     8    16]\n",
      " [    1     4    16    64   256]\n",
      " [    1     6    36   216  1296]\n",
      " [    1     8    64   512  4096]\n",
      " [    1    10   100  1000 10000]]\n"
     ]
    }
   ],
   "source": [
    "print(Vandermonde_Mat('1, 2, 4, 6, 8, 10', 5, True))   # Increasing Order"
   ]
  },
  {
   "cell_type": "code",
   "execution_count": 51,
   "metadata": {
    "ExecuteTime": {
     "end_time": "2020-10-01T18:06:19.534158Z",
     "start_time": "2020-10-01T18:06:19.510157Z"
    }
   },
   "outputs": [
    {
     "name": "stdout",
     "output_type": "stream",
     "text": [
      " ### Power is in Decresing Order  ###\n",
      "\n",
      "[[    1     1     1     1     1]\n",
      " [   16     8     4     2     1]\n",
      " [  256    64    16     4     1]\n",
      " [ 1296   216    36     6     1]\n",
      " [ 4096   512    64     8     1]\n",
      " [10000  1000   100    10     1]]\n"
     ]
    }
   ],
   "source": [
    "print(Vandermonde_Mat('1, 2, 4, 6, 8, 10', 5, False))   # Decreasing Order"
   ]
  },
  {
   "cell_type": "code",
   "execution_count": 52,
   "metadata": {
    "ExecuteTime": {
     "end_time": "2020-10-01T18:06:20.235199Z",
     "start_time": "2020-10-01T18:06:20.208197Z"
    }
   },
   "outputs": [
    {
     "name": "stdout",
     "output_type": "stream",
     "text": [
      " ### Power is in Decresing Order  ###\n",
      "\n",
      "[[     1      1      1      1      1      1]\n",
      " [    32     16      8      4      2      1]\n",
      " [  1024    256     64     16      4      1]\n",
      " [  7776   1296    216     36      6      1]\n",
      " [ 32768   4096    512     64      8      1]\n",
      " [100000  10000   1000    100     10      1]]\n"
     ]
    }
   ],
   "source": [
    "print(Vandermonde_Mat('1, 2, 4, 6, 8, 10', increasing=False))   # Without i"
   ]
  },
  {
   "cell_type": "markdown",
   "metadata": {},
   "source": [
    "## Solution\n",
    "Ref: https://numpy.org/doc/stable/reference/generated/numpy.vander.html"
   ]
  },
  {
   "cell_type": "code",
   "execution_count": 54,
   "metadata": {
    "ExecuteTime": {
     "end_time": "2020-10-01T18:07:45.240021Z",
     "start_time": "2020-10-01T18:07:45.223020Z"
    }
   },
   "outputs": [],
   "source": [
    "import numpy as np\n",
    "from numpy import vander\n",
    "\n",
    "x = np.array([1, 2, 3, 5])"
   ]
  },
  {
   "cell_type": "code",
   "execution_count": 55,
   "metadata": {
    "ExecuteTime": {
     "end_time": "2020-10-01T18:07:48.070182Z",
     "start_time": "2020-10-01T18:07:48.044181Z"
    }
   },
   "outputs": [
    {
     "data": {
      "text/plain": [
       "array([[  1,   1,   1,   1],\n",
       "       [  8,   4,   2,   1],\n",
       "       [ 27,   9,   3,   1],\n",
       "       [125,  25,   5,   1]])"
      ]
     },
     "execution_count": 55,
     "metadata": {},
     "output_type": "execute_result"
    }
   ],
   "source": [
    "vander(x)"
   ]
  },
  {
   "cell_type": "code",
   "execution_count": 56,
   "metadata": {
    "ExecuteTime": {
     "end_time": "2020-10-01T18:08:03.794082Z",
     "start_time": "2020-10-01T18:08:03.757080Z"
    }
   },
   "outputs": [
    {
     "data": {
      "text/plain": [
       "array([[  1,   1,   1,   1],\n",
       "       [  1,   2,   4,   8],\n",
       "       [  1,   3,   9,  27],\n",
       "       [  1,   5,  25, 125]])"
      ]
     },
     "execution_count": 56,
     "metadata": {},
     "output_type": "execute_result"
    }
   ],
   "source": [
    "vander(x, increasing=True)"
   ]
  },
  {
   "cell_type": "markdown",
   "metadata": {},
   "source": [
    "# Problem Statement\n",
    "Given a sequence of n values x1, x2, ..., xn and a window size k>0, the k-th moving average of the given sequence is defined as follows<br>\n",
    "The moving average sequence has n-k+1 elements as shown below.<br>\n",
    "The moving averages with k=4 of a ten-value sequence (n=10) is shown below<br><br>\n",
    "\n",
    "**Input =  10 20 30 40 50 60 70 80 90 100**<br><br>\n",
    "y1 25 = (10+20+30+40)/4 <br>\n",
    "y2 35 = (20+30+40+50)/4 <br>\n",
    "y3 45 = (30+40+50+60)/4 <br>\n",
    "y4 55 = (40+50+60+70)/4 <br>\n",
    "y5 65 = (50+60+70+80)/4 <br>\n",
    "y6 75 = (60+70+80+90)/4 <br>\n",
    "y7 85 = (70+80+90+100)/4<br><br>\n",
    "\n",
    "Thus, the moving average sequence has **n-k+1 = 10-4+1 = 7** values.<br>"
   ]
  },
  {
   "cell_type": "code",
   "execution_count": 1,
   "metadata": {
    "ExecuteTime": {
     "end_time": "2020-10-02T02:50:44.669480Z",
     "start_time": "2020-10-02T02:50:44.650479Z"
    }
   },
   "outputs": [],
   "source": [
    "sequence = [10, 20, 30, 40, 50, 60, 70, 80, 90, 100]\n",
    "n        = len(sequence)\n",
    "k        = 4\n",
    "\n",
    "seq_moving_avg = 10 - 4 + 1   # n-k+1"
   ]
  },
  {
   "cell_type": "markdown",
   "metadata": {},
   "source": [
    "# Question"
   ]
  },
  {
   "cell_type": "markdown",
   "metadata": {},
   "source": [
    "**Question:**<br>\n",
    "Write a function to find moving average in an array over a window:\n",
    "\n",
    "Test it over [3, 5, 7, 2, 8, 10, 11, 65, 72, 81, 99, 100, 150] and window of 3"
   ]
  },
  {
   "cell_type": "markdown",
   "metadata": {},
   "source": [
    "## Solution - Normal for loop"
   ]
  },
  {
   "cell_type": "code",
   "execution_count": 3,
   "metadata": {
    "ExecuteTime": {
     "end_time": "2020-10-02T05:38:30.976580Z",
     "start_time": "2020-10-02T05:38:30.361355Z"
    }
   },
   "outputs": [],
   "source": [
    "import numpy as np"
   ]
  },
  {
   "cell_type": "code",
   "execution_count": 4,
   "metadata": {
    "ExecuteTime": {
     "end_time": "2020-10-02T05:38:31.007780Z",
     "start_time": "2020-10-02T05:38:30.976580Z"
    }
   },
   "outputs": [],
   "source": [
    "def moving_average(seq, window):\n",
    "    seq = [int(i) for i in seq.split(',')]\n",
    "    n   = len(seq)\n",
    "    k   = window\n",
    "    mal = n - k + 1 # moving average length\n",
    "    avg =[]\n",
    "    \n",
    "    # Condition for sequence\n",
    "    if n < k:\n",
    "        print('Error : Seq : Minimum required elements should be Greater than or Equal to Window size')\n",
    "    \n",
    "    # Condition for k\n",
    "    if not isinstance(k, int):\n",
    "        print('Error : Window : Please provide integer value')\n",
    "    \n",
    "    for i in range(n):\n",
    "        if len(seq) >= k:\n",
    "            avg.append(sum([j for j in seq[:k]])/k)\n",
    "            seq.pop(0)\n",
    "        else:\n",
    "            return np.array(avg)"
   ]
  },
  {
   "cell_type": "code",
   "execution_count": 5,
   "metadata": {
    "ExecuteTime": {
     "end_time": "2020-10-02T05:38:31.650411Z",
     "start_time": "2020-10-02T05:38:31.593809Z"
    }
   },
   "outputs": [
    {
     "data": {
      "text/plain": [
       "array([  5.        ,   4.66666667,   5.66666667,   6.66666667,\n",
       "         9.66666667,  28.66666667,  49.33333333,  72.66666667,\n",
       "        84.        ,  93.33333333, 116.33333333])"
      ]
     },
     "execution_count": 5,
     "metadata": {},
     "output_type": "execute_result"
    }
   ],
   "source": [
    "ma = moving_average('3, 5, 7, 2, 8, 10, 11, 65, 72, 81, 99, 100, 150', 3)\n",
    "ma"
   ]
  },
  {
   "cell_type": "code",
   "execution_count": 6,
   "metadata": {
    "ExecuteTime": {
     "end_time": "2020-10-02T05:38:32.364646Z",
     "start_time": "2020-10-02T05:38:32.325445Z"
    }
   },
   "outputs": [
    {
     "data": {
      "text/plain": [
       "11"
      ]
     },
     "execution_count": 6,
     "metadata": {},
     "output_type": "execute_result"
    }
   ],
   "source": [
    "ma.size"
   ]
  },
  {
   "cell_type": "markdown",
   "metadata": {},
   "source": [
    "## Solution - Using list Comprehension"
   ]
  },
  {
   "cell_type": "code",
   "execution_count": 7,
   "metadata": {
    "ExecuteTime": {
     "end_time": "2020-10-02T05:38:57.127218Z",
     "start_time": "2020-10-02T05:38:57.103618Z"
    }
   },
   "outputs": [],
   "source": [
    "def moving_average(seq, window):\n",
    "    seq = [int(i) for i in seq.split(',')]\n",
    "    n   = len(seq)\n",
    "    k   = window\n",
    "    \n",
    "    # moving average length\n",
    "    mal = n - k + 1\n",
    "    \n",
    "    # Condition for sequence\n",
    "    if n < k:\n",
    "        print('Error : Seq : Minimum required elements should be Greater than or Equal to Window size')\n",
    "    \n",
    "    # Condition for k\n",
    "    if not isinstance(k, int):\n",
    "        print('Error : Window : Please provide integer value')\n",
    "    \n",
    "    return np.array([sum([j for j in seq[i:i+k]])/k for i in range(n) if i < mal])"
   ]
  },
  {
   "cell_type": "code",
   "execution_count": 8,
   "metadata": {
    "ExecuteTime": {
     "end_time": "2020-10-02T05:38:57.383233Z",
     "start_time": "2020-10-02T05:38:57.356231Z"
    }
   },
   "outputs": [
    {
     "data": {
      "text/plain": [
       "array([  5.        ,   4.66666667,   5.66666667,   6.66666667,\n",
       "         9.66666667,  28.66666667,  49.33333333,  72.66666667,\n",
       "        84.        ,  93.33333333, 116.33333333])"
      ]
     },
     "execution_count": 8,
     "metadata": {},
     "output_type": "execute_result"
    }
   ],
   "source": [
    "ma = moving_average('3, 5, 7, 2, 8, 10, 11, 65, 72, 81, 99, 100, 150', 3)\n",
    "ma"
   ]
  },
  {
   "cell_type": "code",
   "execution_count": 9,
   "metadata": {
    "ExecuteTime": {
     "end_time": "2020-10-02T05:38:57.575244Z",
     "start_time": "2020-10-02T05:38:57.557243Z"
    }
   },
   "outputs": [
    {
     "data": {
      "text/plain": [
       "11"
      ]
     },
     "execution_count": 9,
     "metadata": {},
     "output_type": "execute_result"
    }
   ],
   "source": [
    "ma.size"
   ]
  }
 ],
 "metadata": {
  "kernelspec": {
   "display_name": "Python 3",
   "language": "python",
   "name": "python3"
  },
  "language_info": {
   "codemirror_mode": {
    "name": "ipython",
    "version": 3
   },
   "file_extension": ".py",
   "mimetype": "text/x-python",
   "name": "python",
   "nbconvert_exporter": "python",
   "pygments_lexer": "ipython3",
   "version": "3.7.7"
  },
  "toc": {
   "base_numbering": 1,
   "nav_menu": {},
   "number_sections": true,
   "sideBar": true,
   "skip_h1_title": false,
   "title_cell": "Table of Contents",
   "title_sidebar": "Contents",
   "toc_cell": true,
   "toc_position": {},
   "toc_section_display": true,
   "toc_window_display": true
  }
 },
 "nbformat": 4,
 "nbformat_minor": 4
}
