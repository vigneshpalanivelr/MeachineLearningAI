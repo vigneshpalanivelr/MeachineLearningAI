{
 "cells": [
  {
   "cell_type": "markdown",
   "metadata": {
    "toc": true
   },
   "source": [
    "<h1>Table of Contents<span class=\"tocSkip\"></span></h1>\n",
    "<div class=\"toc\"><ul class=\"toc-item\"><li><span><a href=\"#Question\" data-toc-modified-id=\"Question-1\"><span class=\"toc-item-num\">1&nbsp;&nbsp;</span>Question</a></span><ul class=\"toc-item\"><li><span><a href=\"#Answer\" data-toc-modified-id=\"Answer-1.1\"><span class=\"toc-item-num\">1.1&nbsp;&nbsp;</span>Answer</a></span></li></ul></li><li><span><a href=\"#Question\" data-toc-modified-id=\"Question-2\"><span class=\"toc-item-num\">2&nbsp;&nbsp;</span>Question</a></span><ul class=\"toc-item\"><li><span><a href=\"#Answer\" data-toc-modified-id=\"Answer-2.1\"><span class=\"toc-item-num\">2.1&nbsp;&nbsp;</span>Answer</a></span></li></ul></li><li><span><a href=\"#Question\" data-toc-modified-id=\"Question-3\"><span class=\"toc-item-num\">3&nbsp;&nbsp;</span>Question</a></span><ul class=\"toc-item\"><li><span><a href=\"#Answer\" data-toc-modified-id=\"Answer-3.1\"><span class=\"toc-item-num\">3.1&nbsp;&nbsp;</span>Answer</a></span></li></ul></li><li><span><a href=\"#Question\" data-toc-modified-id=\"Question-4\"><span class=\"toc-item-num\">4&nbsp;&nbsp;</span>Question</a></span><ul class=\"toc-item\"><li><span><a href=\"#Answer\" data-toc-modified-id=\"Answer-4.1\"><span class=\"toc-item-num\">4.1&nbsp;&nbsp;</span>Answer</a></span></li></ul></li></ul></div>"
   ]
  },
  {
   "cell_type": "markdown",
   "metadata": {},
   "source": [
    "# Question\n",
    "**Question 1.1** Write a Python Program(with class concepts) to find the area of the triangle using the below formula.<br><br>\n",
    "\n",
    "`area = (s*(s-a)*(s-b)*(s-c)) ** 0.5`<br><br>\n",
    "\n",
    "Function to take the length of the sides of triangle from user should be defined in the parent class and function to calculate the area should be defined in subclass."
   ]
  },
  {
   "cell_type": "markdown",
   "metadata": {},
   "source": [
    "**BreakDown points**<br>\n",
    "`Class Parent : Should Read inputs from User fr the sides of triangle`<br>\n",
    "`Class Child  : Should Calculate the Area Of Triangle with Variables from parent`<br>\n",
    "\n",
    "**Heron's Formula**\n",
    "\\begin{align}\n",
    "s = \\frac{a + b + c}{2}\n",
    "\\end{align}\n",
    "<br><br>\n",
    "\\begin{align}\n",
    "Area Of Triangle = \\sqrt{(s*(s-a)*(s-b)*(s-c))}\n",
    "\\end{align}"
   ]
  },
  {
   "cell_type": "markdown",
   "metadata": {},
   "source": [
    "## Answer"
   ]
  },
  {
   "cell_type": "code",
   "execution_count": 38,
   "metadata": {
    "ExecuteTime": {
     "end_time": "2020-10-03T07:26:03.035194Z",
     "start_time": "2020-10-03T07:26:00.050024Z"
    }
   },
   "outputs": [
    {
     "name": "stdout",
     "output_type": "stream",
     "text": [
      "Please provide length of the sides of triangle : \n",
      "\n",
      "side1 : 5\n",
      "side2 : 4\n",
      "side3 : 3\n",
      "\n",
      "Area Of Triangle : 6.0\n"
     ]
    }
   ],
   "source": [
    "# Parent Class : Will get the input from User and display\n",
    "class LengthOfTheSides():\n",
    "    def __init__(self):\n",
    "        print('Please provide length of the sides of triangle : \\n')\n",
    "        self.a = float(input('side1 : '))\n",
    "        self.b = float(input('side2 : '))\n",
    "        self.c = float(input('side3 : '))\n",
    "    \n",
    "    def __repr__(self):\n",
    "        return 'Provided Values are ...\\nside1 = {}, side2 = {}, side3 = {}\\n\\n'.format(str(self.a),str(self.b), str(self.c))\n",
    "\n",
    "# Child Class : Will Calculate the Area Of Triangle\n",
    "class Area(LengthOfTheSides):\n",
    "    def __init__(self):\n",
    "        LengthOfTheSides.__init__(self)\n",
    "    \n",
    "    def AreaOfTriangle(self):\n",
    "        s, a, b, c = (self.a + self.b + self.c)/2, self.a, self.b, self.c\n",
    "        return (s*(s-a)*(s-b)*(s-c)) ** 0.5\n",
    "\n",
    "AreaOfTriangle = Area()\n",
    "print('\\nArea Of Triangle : {}'.format(AreaOfTriangle.AreaOfTriangle()))"
   ]
  },
  {
   "cell_type": "markdown",
   "metadata": {},
   "source": [
    "# Question"
   ]
  },
  {
   "cell_type": "markdown",
   "metadata": {
    "ExecuteTime": {
     "end_time": "2020-10-03T06:01:06.908414Z",
     "start_time": "2020-10-03T06:01:04.021Z"
    }
   },
   "source": [
    "**Question 1.2** Write a function filter_long_words() that takes a list of words and an integer n and returns the list of words that are longer than n."
   ]
  },
  {
   "cell_type": "markdown",
   "metadata": {},
   "source": [
    "## Answer"
   ]
  },
  {
   "cell_type": "code",
   "execution_count": 49,
   "metadata": {
    "ExecuteTime": {
     "end_time": "2020-10-03T07:41:18.873577Z",
     "start_time": "2020-10-03T07:41:18.854576Z"
    }
   },
   "outputs": [],
   "source": [
    "def filter_long_words(words_to_check, max_length):\n",
    "    # Check Provided Arg[0] is List\n",
    "    if not isinstance(words_to_check, list):\n",
    "        raise Exception('Please enter arg[0] as list of words')\n",
    "    # Check Provided Arg[1] is int\n",
    "    if not isinstance(max_length, int):\n",
    "        raise Exception('Please enter arg[1] as int')\n",
    "    \n",
    "    return [i for i in words_to_check if len(i)>max_length]"
   ]
  },
  {
   "cell_type": "code",
   "execution_count": 53,
   "metadata": {
    "ExecuteTime": {
     "end_time": "2020-10-03T07:42:04.812205Z",
     "start_time": "2020-10-03T07:42:04.788203Z"
    }
   },
   "outputs": [
    {
     "data": {
      "text/plain": [
       "['Vignesh']"
      ]
     },
     "execution_count": 53,
     "metadata": {},
     "output_type": "execute_result"
    }
   ],
   "source": [
    "# Correct Arguments Passed\n",
    "\n",
    "filter_long_words(['Vignesh', 'Vicky'], 5)"
   ]
  },
  {
   "cell_type": "code",
   "execution_count": 51,
   "metadata": {
    "ExecuteTime": {
     "end_time": "2020-10-03T07:41:20.545673Z",
     "start_time": "2020-10-03T07:41:20.494670Z"
    }
   },
   "outputs": [
    {
     "ename": "Exception",
     "evalue": "Please enter arg[0] as list of words",
     "output_type": "error",
     "traceback": [
      "\u001b[1;31m---------------------------------------------------------------------------\u001b[0m",
      "\u001b[1;31mException\u001b[0m                                 Traceback (most recent call last)",
      "\u001b[1;32m<ipython-input-51-c482154384e5>\u001b[0m in \u001b[0;36m<module>\u001b[1;34m\u001b[0m\n\u001b[1;32m----> 1\u001b[1;33m \u001b[0mfilter_long_words\u001b[0m\u001b[1;33m(\u001b[0m\u001b[1;34m'Vignesh'\u001b[0m\u001b[1;33m,\u001b[0m \u001b[1;36m5\u001b[0m\u001b[1;33m)\u001b[0m\u001b[1;33m\u001b[0m\u001b[1;33m\u001b[0m\u001b[0m\n\u001b[0m",
      "\u001b[1;32m<ipython-input-49-591daedf83ac>\u001b[0m in \u001b[0;36mfilter_long_words\u001b[1;34m(words_to_check, max_length)\u001b[0m\n\u001b[0;32m      2\u001b[0m     \u001b[1;31m# Check Provided Arg[0] is List\u001b[0m\u001b[1;33m\u001b[0m\u001b[1;33m\u001b[0m\u001b[1;33m\u001b[0m\u001b[0m\n\u001b[0;32m      3\u001b[0m     \u001b[1;32mif\u001b[0m \u001b[1;32mnot\u001b[0m \u001b[0misinstance\u001b[0m\u001b[1;33m(\u001b[0m\u001b[0mwords_to_check\u001b[0m\u001b[1;33m,\u001b[0m \u001b[0mlist\u001b[0m\u001b[1;33m)\u001b[0m\u001b[1;33m:\u001b[0m\u001b[1;33m\u001b[0m\u001b[1;33m\u001b[0m\u001b[0m\n\u001b[1;32m----> 4\u001b[1;33m         \u001b[1;32mraise\u001b[0m \u001b[0mException\u001b[0m\u001b[1;33m(\u001b[0m\u001b[1;34m'Please enter arg[0] as list of words'\u001b[0m\u001b[1;33m)\u001b[0m\u001b[1;33m\u001b[0m\u001b[1;33m\u001b[0m\u001b[0m\n\u001b[0m\u001b[0;32m      5\u001b[0m     \u001b[1;31m# Check Provided Arg[1] is int\u001b[0m\u001b[1;33m\u001b[0m\u001b[1;33m\u001b[0m\u001b[1;33m\u001b[0m\u001b[0m\n\u001b[0;32m      6\u001b[0m     \u001b[1;32mif\u001b[0m \u001b[1;32mnot\u001b[0m \u001b[0misinstance\u001b[0m\u001b[1;33m(\u001b[0m\u001b[0mmax_length\u001b[0m\u001b[1;33m,\u001b[0m \u001b[0mint\u001b[0m\u001b[1;33m)\u001b[0m\u001b[1;33m:\u001b[0m\u001b[1;33m\u001b[0m\u001b[1;33m\u001b[0m\u001b[0m\n",
      "\u001b[1;31mException\u001b[0m: Please enter arg[0] as list of words"
     ]
    }
   ],
   "source": [
    "# Arg[0] is String \n",
    "\n",
    "filter_long_words('Vignesh', 5)"
   ]
  },
  {
   "cell_type": "code",
   "execution_count": 54,
   "metadata": {
    "ExecuteTime": {
     "end_time": "2020-10-03T07:42:29.814635Z",
     "start_time": "2020-10-03T07:42:29.770632Z"
    }
   },
   "outputs": [
    {
     "ename": "Exception",
     "evalue": "Please enter arg[1] as int",
     "output_type": "error",
     "traceback": [
      "\u001b[1;31m---------------------------------------------------------------------------\u001b[0m",
      "\u001b[1;31mException\u001b[0m                                 Traceback (most recent call last)",
      "\u001b[1;32m<ipython-input-54-8544c6b69338>\u001b[0m in \u001b[0;36m<module>\u001b[1;34m\u001b[0m\n\u001b[0;32m      1\u001b[0m \u001b[1;31m# Arg[1] is String\u001b[0m\u001b[1;33m\u001b[0m\u001b[1;33m\u001b[0m\u001b[1;33m\u001b[0m\u001b[0m\n\u001b[0;32m      2\u001b[0m \u001b[1;33m\u001b[0m\u001b[0m\n\u001b[1;32m----> 3\u001b[1;33m \u001b[0mfilter_long_words\u001b[0m\u001b[1;33m(\u001b[0m\u001b[1;33m[\u001b[0m\u001b[1;34m'Vignesh'\u001b[0m\u001b[1;33m,\u001b[0m \u001b[1;34m'Vicky'\u001b[0m\u001b[1;33m]\u001b[0m\u001b[1;33m,\u001b[0m \u001b[1;34m\"5\"\u001b[0m\u001b[1;33m)\u001b[0m\u001b[1;33m\u001b[0m\u001b[1;33m\u001b[0m\u001b[0m\n\u001b[0m",
      "\u001b[1;32m<ipython-input-49-591daedf83ac>\u001b[0m in \u001b[0;36mfilter_long_words\u001b[1;34m(words_to_check, max_length)\u001b[0m\n\u001b[0;32m      5\u001b[0m     \u001b[1;31m# Check Provided Arg[1] is int\u001b[0m\u001b[1;33m\u001b[0m\u001b[1;33m\u001b[0m\u001b[1;33m\u001b[0m\u001b[0m\n\u001b[0;32m      6\u001b[0m     \u001b[1;32mif\u001b[0m \u001b[1;32mnot\u001b[0m \u001b[0misinstance\u001b[0m\u001b[1;33m(\u001b[0m\u001b[0mmax_length\u001b[0m\u001b[1;33m,\u001b[0m \u001b[0mint\u001b[0m\u001b[1;33m)\u001b[0m\u001b[1;33m:\u001b[0m\u001b[1;33m\u001b[0m\u001b[1;33m\u001b[0m\u001b[0m\n\u001b[1;32m----> 7\u001b[1;33m         \u001b[1;32mraise\u001b[0m \u001b[0mException\u001b[0m\u001b[1;33m(\u001b[0m\u001b[1;34m'Please enter arg[1] as int'\u001b[0m\u001b[1;33m)\u001b[0m\u001b[1;33m\u001b[0m\u001b[1;33m\u001b[0m\u001b[0m\n\u001b[0m\u001b[0;32m      8\u001b[0m \u001b[1;33m\u001b[0m\u001b[0m\n\u001b[0;32m      9\u001b[0m     \u001b[1;32mreturn\u001b[0m \u001b[1;33m[\u001b[0m\u001b[0mi\u001b[0m \u001b[1;32mfor\u001b[0m \u001b[0mi\u001b[0m \u001b[1;32min\u001b[0m \u001b[0mwords_to_check\u001b[0m \u001b[1;32mif\u001b[0m \u001b[0mlen\u001b[0m\u001b[1;33m(\u001b[0m\u001b[0mi\u001b[0m\u001b[1;33m)\u001b[0m\u001b[1;33m>\u001b[0m\u001b[0mmax_length\u001b[0m\u001b[1;33m]\u001b[0m\u001b[1;33m\u001b[0m\u001b[1;33m\u001b[0m\u001b[0m\n",
      "\u001b[1;31mException\u001b[0m: Please enter arg[1] as int"
     ]
    }
   ],
   "source": [
    "# Arg[1] is String \n",
    "\n",
    "filter_long_words(['Vignesh', 'Vicky'], \"5\")"
   ]
  },
  {
   "cell_type": "markdown",
   "metadata": {},
   "source": [
    "# Question"
   ]
  },
  {
   "cell_type": "markdown",
   "metadata": {},
   "source": [
    "**Question 2.1** Write a Python program using function concept that maps list of words into a list of integers representing the lengths of the corresponding words.\n",
    "\n",
    "**Hint:** If a list [ ab,cde,erty] is passed on to the python function output should come as [2,3,4]. Here 2,3 and 4 are the lengths of the words in the list."
   ]
  },
  {
   "cell_type": "markdown",
   "metadata": {},
   "source": [
    "## Answer"
   ]
  },
  {
   "cell_type": "code",
   "execution_count": 55,
   "metadata": {
    "ExecuteTime": {
     "end_time": "2020-10-03T07:48:11.056153Z",
     "start_time": "2020-10-03T07:48:11.036152Z"
    }
   },
   "outputs": [],
   "source": [
    "def words_to_int(words_to_check):\n",
    "    # Check Provided Arg[0] is List\n",
    "    if not isinstance(words_to_check, list):\n",
    "        raise Exception('Please enter arg[0] as list of words')\n",
    "    \n",
    "    return [len(i) for i in words_to_check]"
   ]
  },
  {
   "cell_type": "code",
   "execution_count": 57,
   "metadata": {
    "ExecuteTime": {
     "end_time": "2020-10-03T07:48:23.393859Z",
     "start_time": "2020-10-03T07:48:23.368857Z"
    }
   },
   "outputs": [
    {
     "data": {
      "text/plain": [
       "[7, 5]"
      ]
     },
     "execution_count": 57,
     "metadata": {},
     "output_type": "execute_result"
    }
   ],
   "source": [
    "words_to_int(['Vignesh', 'Vicky'])"
   ]
  },
  {
   "cell_type": "markdown",
   "metadata": {},
   "source": [
    "# Question"
   ]
  },
  {
   "cell_type": "markdown",
   "metadata": {},
   "source": [
    "**Question 2.2** Write a Python function which takes a character (i.e. a string of length 1) and returns True if it is a vowel, False otherwise."
   ]
  },
  {
   "cell_type": "markdown",
   "metadata": {},
   "source": [
    "## Answer"
   ]
  },
  {
   "cell_type": "code",
   "execution_count": 69,
   "metadata": {
    "ExecuteTime": {
     "end_time": "2020-10-03T08:04:50.491317Z",
     "start_time": "2020-10-03T08:04:50.470316Z"
    }
   },
   "outputs": [],
   "source": [
    "def check_vowels(char_to_check):\n",
    "    vowels = ('a', 'e', 'i', 'o', 'u')\n",
    "    \n",
    "    # Check Provided Arg[0] is a Single Charecter String\n",
    "    if isinstance(char_to_check, str) and len(char_to_check) == 1:\n",
    "        if char_to_check.lower() in vowels:\n",
    "            return True\n",
    "        else:\n",
    "            return False\n",
    "    else:\n",
    "        raise Exception('Please enter arg[0] as a Single Charecter String')"
   ]
  },
  {
   "cell_type": "code",
   "execution_count": 70,
   "metadata": {
    "ExecuteTime": {
     "end_time": "2020-10-03T08:04:50.776334Z",
     "start_time": "2020-10-03T08:04:50.749332Z"
    }
   },
   "outputs": [
    {
     "data": {
      "text/plain": [
       "False"
      ]
     },
     "execution_count": 70,
     "metadata": {},
     "output_type": "execute_result"
    }
   ],
   "source": [
    "check_vowels('V')"
   ]
  },
  {
   "cell_type": "code",
   "execution_count": 71,
   "metadata": {
    "ExecuteTime": {
     "end_time": "2020-10-03T08:04:51.096352Z",
     "start_time": "2020-10-03T08:04:51.068350Z"
    }
   },
   "outputs": [
    {
     "data": {
      "text/plain": [
       "True"
      ]
     },
     "execution_count": 71,
     "metadata": {},
     "output_type": "execute_result"
    }
   ],
   "source": [
    "check_vowels('I')"
   ]
  }
 ],
 "metadata": {
  "kernelspec": {
   "display_name": "Python 3",
   "language": "python",
   "name": "python3"
  },
  "language_info": {
   "codemirror_mode": {
    "name": "ipython",
    "version": 3
   },
   "file_extension": ".py",
   "mimetype": "text/x-python",
   "name": "python",
   "nbconvert_exporter": "python",
   "pygments_lexer": "ipython3",
   "version": "3.7.7"
  },
  "toc": {
   "base_numbering": 1,
   "nav_menu": {},
   "number_sections": true,
   "sideBar": true,
   "skip_h1_title": false,
   "title_cell": "Table of Contents",
   "title_sidebar": "Contents",
   "toc_cell": true,
   "toc_position": {},
   "toc_section_display": true,
   "toc_window_display": true
  }
 },
 "nbformat": 4,
 "nbformat_minor": 4
}
